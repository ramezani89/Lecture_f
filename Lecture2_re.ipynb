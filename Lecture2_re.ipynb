{
 "cells": [
  {
   "cell_type": "code",
   "execution_count": null,
   "id": "89b8953a-5999-4d08-99c1-5ceabc6beaa5",
   "metadata": {},
   "outputs": [],
   "source": [
    "## Numeric int, float"
   ]
  },
  {
   "cell_type": "code",
   "execution_count": null,
   "id": "1bd2d73a-1587-4d8f-8081-984f54ba585f",
   "metadata": {},
   "outputs": [],
   "source": [
    "a=1\n",
    "type(a)\n"
   ]
  },
  {
   "cell_type": "code",
   "execution_count": null,
   "id": "40217b2b-52e0-4268-a015-508358170f72",
   "metadata": {},
   "outputs": [],
   "source": [
    "b= 2.8\n",
    "type(2.8)"
   ]
  },
  {
   "cell_type": "code",
   "execution_count": null,
   "id": "5ab6540b-f166-41fb-914f-20ca7f3994d1",
   "metadata": {},
   "outputs": [],
   "source": [
    "## Sequence list, tuple"
   ]
  },
  {
   "cell_type": "code",
   "execution_count": null,
   "id": "e54accb1-2896-4a2e-9af9-4b4594132ff0",
   "metadata": {},
   "outputs": [],
   "source": [
    "type([4, 6, 7])"
   ]
  },
  {
   "cell_type": "code",
   "execution_count": null,
   "id": "f6fa0790-3390-45c7-a49d-e5a10ae14a20",
   "metadata": {},
   "outputs": [],
   "source": [
    "type((1, 5))"
   ]
  },
  {
   "cell_type": "code",
   "execution_count": null,
   "id": "06b660a7-d97f-440f-ac44-856aa1cfcbc7",
   "metadata": {},
   "outputs": [],
   "source": [
    "## String str"
   ]
  },
  {
   "cell_type": "code",
   "execution_count": null,
   "id": "7394fef0-3ed8-4192-8392-00a6308707ef",
   "metadata": {},
   "outputs": [],
   "source": [
    "type(\"I like Math!\")\n"
   ]
  },
  {
   "cell_type": "code",
   "execution_count": null,
   "id": "9921f14b-ce0e-4248-8828-9cdc4eff0a87",
   "metadata": {},
   "outputs": [],
   "source": [
    "## Mapping dict"
   ]
  },
  {
   "cell_type": "code",
   "execution_count": null,
   "id": "789031b7-966f-4ced-ab7d-dfc7ff6ee904",
   "metadata": {},
   "outputs": [],
   "source": [
    "type({\"number of student\": 8, \"p\": 5})"
   ]
  },
  {
   "cell_type": "code",
   "execution_count": null,
   "id": "e8701ad8-725d-4dfa-9dbe-a9057901f677",
   "metadata": {},
   "outputs": [],
   "source": [
    "##set"
   ]
  },
  {
   "cell_type": "code",
   "execution_count": null,
   "id": "44f2f005-43e8-4bbd-8792-e24bd415bd9f",
   "metadata": {},
   "outputs": [],
   "source": [
    "type({\"number of student\", \"p\"})"
   ]
  },
  {
   "cell_type": "code",
   "execution_count": null,
   "id": "c250f478-552a-43b9-ba1d-c569e0bb34a2",
   "metadata": {},
   "outputs": [],
   "source": [
    "##Boolean "
   ]
  },
  {
   "cell_type": "code",
   "execution_count": null,
   "id": "6afd5f11-abd5-4ecf-a0c9-54dc6014a558",
   "metadata": {},
   "outputs": [],
   "source": [
    "1 == 2"
   ]
  },
  {
   "cell_type": "code",
   "execution_count": null,
   "id": "b61e33a7-8d1f-40d8-aa5b-296ea7678040",
   "metadata": {},
   "outputs": [],
   "source": [
    "c=(\"I like Math!\")"
   ]
  },
  {
   "cell_type": "code",
   "execution_count": null,
   "id": "17e1ecf4-8f1a-40f9-bfd4-b5eae6809f2d",
   "metadata": {},
   "outputs": [],
   "source": [
    "print(c[2])"
   ]
  },
  {
   "cell_type": "markdown",
   "id": "b2921c16-dc49-49e0-89b2-b14032e32b97",
   "metadata": {},
   "source": [
    "Excercise1: Assign a list to a variable and check the type and print an element using index!"
   ]
  },
  {
   "cell_type": "markdown",
   "id": "f132b7d1-e052-493f-8e3a-eeeecdb13314",
   "metadata": {},
   "source": [
    "Excercise2: Assign a flot to a variable and use the print() function to print out the following sentence \"the type of 2.8 is <class 'float'>\""
   ]
  },
  {
   "cell_type": "code",
   "execution_count": null,
   "id": "34f040c1-d665-4895-b0c9-cb312d9aba2d",
   "metadata": {},
   "outputs": [],
   "source": [
    "##Arithmetic operators"
   ]
  },
  {
   "cell_type": "code",
   "execution_count": null,
   "id": "316f8170-d838-42d2-9b4b-3ab4f02ca4d2",
   "metadata": {},
   "outputs": [],
   "source": [
    "1+5*4"
   ]
  },
  {
   "cell_type": "code",
   "execution_count": null,
   "id": "76c2e38a-d33c-42e7-ae90-ce02d827d41e",
   "metadata": {},
   "outputs": [],
   "source": [
    "(1+5)*4"
   ]
  },
  {
   "cell_type": "code",
   "execution_count": null,
   "id": "dfb8b860-3edd-4d7e-a40f-1ba241ba0b19",
   "metadata": {},
   "outputs": [],
   "source": [
    "30%10"
   ]
  },
  {
   "cell_type": "code",
   "execution_count": null,
   "id": "8a72c3ba-3f46-4f66-9be9-60134a64030d",
   "metadata": {},
   "outputs": [],
   "source": [
    "15//2"
   ]
  },
  {
   "cell_type": "code",
   "execution_count": null,
   "id": "5f12f6d1-4fab-4edc-a414-707494a2980f",
   "metadata": {},
   "outputs": [],
   "source": [
    "4**3"
   ]
  },
  {
   "cell_type": "code",
   "execution_count": null,
   "id": "84aa504f-545e-4ab3-b054-0642e77a1957",
   "metadata": {},
   "outputs": [],
   "source": [
    "##Conditional Statements "
   ]
  },
  {
   "cell_type": "code",
   "execution_count": null,
   "id": "13414092-be54-4dee-8335-d2584aa36b25",
   "metadata": {},
   "outputs": [],
   "source": [
    "grade=60\n",
    "\n",
    "if grade>50:\n",
    "    print(\"you pass the test\")"
   ]
  },
  {
   "cell_type": "code",
   "execution_count": null,
   "id": "935d8cbb-0c10-4f84-99f9-cc84637e77ee",
   "metadata": {},
   "outputs": [],
   "source": [
    "a=34\n",
    "if a<20:\n",
    "    print(\"you are a winner\")\n",
    "else:\n",
    "    print(\"you are a loser\")\n",
    "    "
   ]
  },
  {
   "cell_type": "code",
   "execution_count": null,
   "id": "ae624f4f-8bac-4f88-81f1-6f30062c21c3",
   "metadata": {},
   "outputs": [],
   "source": [
    "grade=60\n",
    "\n",
    "if grade>50:\n",
    "print(\"you pass the test\")"
   ]
  },
  {
   "cell_type": "markdown",
   "id": "2f7d003b-17f1-4cc8-8d1f-9a82f6ad899c",
   "metadata": {},
   "source": [
    "Excercise3: Given two numbers a and b, write a Python code to check if a is divisible by b"
   ]
  },
  {
   "cell_type": "code",
   "execution_count": null,
   "id": "e2cc0fcb-6eaa-43c6-b3a1-f9277d792f9c",
   "metadata": {},
   "outputs": [],
   "source": [
    "## for and while loop"
   ]
  },
  {
   "cell_type": "code",
   "execution_count": null,
   "id": "0b176c41-97fd-4db5-9296-da9e78f1f5bf",
   "metadata": {},
   "outputs": [],
   "source": [
    "animals = [\"dog\", \"cat\", \"bird\"]\n",
    "for x in animals:\n",
    "    print(x)"
   ]
  },
  {
   "cell_type": "code",
   "execution_count": null,
   "id": "7b1b82f5-643d-4a46-bfb3-c43720dc05cc",
   "metadata": {},
   "outputs": [],
   "source": [
    "animals = [\"dog\", \"cat\", \"bird\"]\n",
    "for x in animals:\n",
    "    print(x)\n",
    "    if x == \"cat\":\n",
    "        break"
   ]
  },
  {
   "cell_type": "code",
   "execution_count": null,
   "id": "b9a30dfc-2fe0-4b39-b192-25c5c5fa0710",
   "metadata": {},
   "outputs": [],
   "source": [
    "x = range(10, 20)\n",
    "for n in x:\n",
    "    print(n)"
   ]
  },
  {
   "cell_type": "code",
   "execution_count": null,
   "id": "62f64e79-d6e0-43d7-b77e-5605da2c7555",
   "metadata": {},
   "outputs": [],
   "source": [
    "x = range(10, 20,2)\n",
    "for n in x:\n",
    "    print(n)"
   ]
  },
  {
   "cell_type": "markdown",
   "id": "101d0820-5cf4-4502-aec5-c44e0898e39a",
   "metadata": {},
   "source": [
    "Exercise4: What numbers between 2 and 30 are even and odd?"
   ]
  },
  {
   "cell_type": "code",
   "execution_count": null,
   "id": "15f6860f-b28f-431a-9948-5ad3570018fe",
   "metadata": {},
   "outputs": [],
   "source": [
    "i = 1\n",
    "while i < 11:\n",
    "    print(i)\n",
    "    i += 1"
   ]
  },
  {
   "cell_type": "markdown",
   "id": "ff879ba6-d36f-4438-8b46-7d54a8b7c782",
   "metadata": {},
   "source": [
    "Exercise5:print out the numbers from 100 to 0 in steps of 10, using while loop\n",
    "\n"
   ]
  },
  {
   "cell_type": "code",
   "execution_count": null,
   "id": "517a624b-502a-4594-b089-bea4ed740a64",
   "metadata": {},
   "outputs": [],
   "source": [
    "## Def function"
   ]
  },
  {
   "cell_type": "code",
   "execution_count": null,
   "id": "9d771289-8b70-4a29-9440-1cffc8ded3de",
   "metadata": {},
   "outputs": [],
   "source": [
    "def add_numbers(num1, num2):\n",
    "    sum = num1 + num2\n",
    "    return sum\n",
    "print(add_numbers(3, 5))"
   ]
  },
  {
   "cell_type": "markdown",
   "id": "4a9f9eee-3ee0-4dc7-8938-7d6db168bd35",
   "metadata": {},
   "source": [
    "Exercise6:What is the area of a rectangle with a length of 2 and a width of 4? (use def function)"
   ]
  },
  {
   "cell_type": "code",
   "execution_count": null,
   "id": "f22e82c7-2ca2-4f38-9479-2fdbbfb1e353",
   "metadata": {},
   "outputs": [],
   "source": [
    "## Python Arrays"
   ]
  },
  {
   "cell_type": "code",
   "execution_count": null,
   "id": "0779858e-214a-4aa5-b60d-c916f0d45365",
   "metadata": {},
   "outputs": [],
   "source": [
    "array_ex = [1, 2, 3, 4, 5]\n",
    "print(array_ex)"
   ]
  },
  {
   "cell_type": "code",
   "execution_count": null,
   "id": "ce18d147-5732-4e79-9546-d973acb9ad68",
   "metadata": {},
   "outputs": [],
   "source": [
    "x = array_ex[0]\n",
    "print(x)"
   ]
  },
  {
   "cell_type": "code",
   "execution_count": null,
   "id": "99dded15-a363-488f-a9e1-eec475803f1b",
   "metadata": {},
   "outputs": [],
   "source": [
    "x = len(array_ex)\n",
    "print(x)"
   ]
  },
  {
   "cell_type": "code",
   "execution_count": null,
   "id": "26136fa9-ff0f-40e2-8bb3-19e4376770e4",
   "metadata": {},
   "outputs": [],
   "source": [
    "array_ex.append(5)\n",
    "print(array_ex)"
   ]
  },
  {
   "cell_type": "code",
   "execution_count": null,
   "id": "1e88011e-3663-4b62-bf59-a24fcefa8808",
   "metadata": {},
   "outputs": [],
   "source": [
    "array_ex.pop(1)\n",
    "print(array_ex)"
   ]
  },
  {
   "cell_type": "markdown",
   "id": "efab13f8-e0c8-43c6-81d1-173881bfcdaa",
   "metadata": {},
   "source": [
    "Exercise7:Write a Python program to find the largest number in a given array of numbers"
   ]
  },
  {
   "cell_type": "markdown",
   "id": "f2147353-d97b-4fdd-b591-6e23a84ef818",
   "metadata": {},
   "source": [
    "Reference: https://jupyter.org\n",
    "https://the-turing-way.netlify.app/communication/binder/zero-to-binder.html\n",
    "https://docs.python.org\n",
    "https://geobgu.xyz/py/\n"
   ]
  },
  {
   "cell_type": "code",
   "execution_count": null,
   "id": "7782cc36-f075-40b8-b0fc-497c413092fb",
   "metadata": {},
   "outputs": [],
   "source": []
  }
 ],
 "metadata": {
  "kernelspec": {
   "display_name": "Python 3 (ipykernel)",
   "language": "python",
   "name": "python3"
  },
  "language_info": {
   "codemirror_mode": {
    "name": "ipython",
    "version": 3
   },
   "file_extension": ".py",
   "mimetype": "text/x-python",
   "name": "python",
   "nbconvert_exporter": "python",
   "pygments_lexer": "ipython3",
   "version": "3.10.10"
  }
 },
 "nbformat": 4,
 "nbformat_minor": 5
}
