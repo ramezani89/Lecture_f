{
 "cells": [
  {
   "cell_type": "markdown",
   "id": "18956576-6f5f-435a-9e22-349b22bd2385",
   "metadata": {},
   "source": [
    "Q1. Write a Python program (def function) to find the sum of all even numbers in an any given range, but exclude any numbers divisible by 5.\n",
    "Test your function for numbers in a range 1 to 200, and print the following sentence using string and variables. \"The sum of even numbers within the range  1  and  200 , excluding multiples of 5, is: ... (your result)\""
   ]
  },
  {
   "cell_type": "markdown",
   "id": "86e6045e-81a1-4aa7-b28c-b435bb67f631",
   "metadata": {},
   "source": [
    "Q2. Calculate and plot the average temperature variation for 3 cities as given below (use a loop for average calculation). For the plot, include titles and labels, and set the tick label size to 10 for both the x-axis and the y-axis"
   ]
  },
  {
   "cell_type": "code",
   "execution_count": null,
   "id": "0c43299d-1581-402d-88e4-13b523b5c346",
   "metadata": {},
   "outputs": [],
   "source": [
    "cities = ['City A', 'City B', 'City C']\n",
    "temperatures = [\n",
    "    [25, 28, 23, 26],  # Temperature values for City A (in °C)\n",
    "    [22, 24, 21, 19],  # Temperature values for City B (in °C)\n",
    "    [27, 26, 28, 30],  # Temperature values for City C (in °C)\n",
    "]"
   ]
  },
  {
   "cell_type": "markdown",
   "id": "cf7499eb-c2c7-4b3d-8ee2-fdd80ff19fe9",
   "metadata": {},
   "source": [
    "Q3. Create a dataframe from a dictionary of series, including different types of data. Then, calculate the average value of a numeric column in the dataframe and print it along with the shape of the dataframe"
   ]
  },
  {
   "cell_type": "raw",
   "id": "e98111f2-b977-48c0-a9fa-cbb28701e999",
   "metadata": {},
   "source": [
    "Q4. Load the dataset from the 'climate.csv' file into a DataFrame called 'climate' and create a line plot for temperature variation comparison for 'United States', 'Canada', 'United Kingdom'. Add appropriate labels to the x-axis and y-axis, and provide a title for the plot."
   ]
  },
  {
   "cell_type": "markdown",
   "id": "fe229c9a-0ac9-4ddd-9382-61a1a7cfd0fc",
   "metadata": {},
   "source": [
    "Q5. Create a 2-dimensional array using np.arange() and reshape()"
   ]
  },
  {
   "cell_type": "markdown",
   "id": "c74c2296-38eb-4258-ae20-f2b136d66704",
   "metadata": {},
   "source": [
    "Q6. 4. print out the numbers from 50 to 0 in steps of 5, using while loop"
   ]
  }
 ],
 "metadata": {
  "kernelspec": {
   "display_name": "Python 3 (ipykernel)",
   "language": "python",
   "name": "python3"
  },
  "language_info": {
   "codemirror_mode": {
    "name": "ipython",
    "version": 3
   },
   "file_extension": ".py",
   "mimetype": "text/x-python",
   "name": "python",
   "nbconvert_exporter": "python",
   "pygments_lexer": "ipython3",
   "version": "3.9.16"
  }
 },
 "nbformat": 4,
 "nbformat_minor": 5
}
